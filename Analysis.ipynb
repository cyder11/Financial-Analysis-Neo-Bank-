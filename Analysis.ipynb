{
 "cells": [
  {
   "cell_type": "markdown",
   "metadata": {},
   "source": [
    "# XXX - Finanacial Case Study "
   ]
  },
  {
   "cell_type": "markdown",
   "metadata": {},
   "source": [
    "TASK\n",
    "\n",
    "\t\t\t\t\t\t\t\t\t\t\t\t\t\t\n",
    "Task 1:\tUsing tab 1. CAC, calculate the average Customer Acquistion Cost (CAC) per country for the years 2017, 2018 and 2019 YTD. Rank them low to high. \t\t\t\t\t\t\t\t\t\t\t\t\t\n",
    "\t\t\t\t\t\t\t\t\t\t\t\t\t\t\n",
    "Task 2: \tUsing tab 2. RAW DATA USERS, prepare a cohort view of \"Percentage of Active Users of Total Users\".\t\t\t\t\t\t\t\t\t\t\t\t\t\n",
    "Task 2.1: \tUsing tab 2. RAW DATA USERS, prepare list of average activity rates for the years 2017, 2018 and 2019 YTD. Rank them low to high.\t\t\t\t\t\t\t\t\t\t\t\t\t\n",
    "Task 2.2: \tUsing tab 1. CAC and tab 2. RAW DATA USERS, which country has the most active users in their June 2019 cohort. Rank them low to high.\t\t\t\t\t\t\t\t\t\t\t\t\t\n",
    "\t\t\t\t\t\t\t\t\t\t\t\t\t\t\n",
    "Task 3: \tUsing tab 3. RAW DATA TRX, prepare a cohort view of \"Card Transaction Volume p. Active User\".\t\t\t\t\t\t\t\t\t\t\t\t\t\n",
    "Task 3.1: \tUsing tab 3. RAW DATA TRX, prepare list of average Card Transaction Volumes per Active User for the years 2017, 2018 and 2019 YTD. Rank them low to high.\t\t\t\t\t\t\t\t\t\t\t\t\t\n",
    "Task 3.2: \tUsing the results from Task 2.2, which country had the highest card transaction volume in their June 2019 cohort. Rank them low to high.\t\t\t\t\t\t\t\t\t\t\t\t\t\n",
    "\t\t\t\t\t\t\t\t\t\t\t\t\t\t\n",
    "Task 4: \tUsing tab 4. RAW DATA AUM, prepare a cohort view of \"Avg. Balance per Active User\".\t\t\t\t\t\t\t\t\t\t\t\t\t\n",
    "Task 4.1: \tUsing tab 4. RAW DATA AUM, prepare list of average Avg. Balances per Active User for the years 2017, 2018 and 2019 YTD. Rank them low to high.\t\t\t\t\t\t\t\t\t\t\t\t\t\n",
    "Task 4.2: \tUsing the results from Task 2.2, which country had the overall highest account balance in their June 2019 cohort. Rank them low to high.\t\t\t\t\t\t\t\t\t\t\t\t\t\n",
    "\t\t\t\t\t\t\t\t\t\t\t\t\t\t\n",
    "Task 5:\tUsing the results of tasks 1 through 4, calculate the payback period of each country, on a sign up basis,  for the June 2019 cohort. Rank them low to high. \t\t\t\t\t\t\t\t\t\t\t\t\t\n",
    "N.B.\tAssume that all card transactions are those of consumers within their own country and denomination (0,2% Interchange) and the interest rates of the local national banks apply to the account balances. \t\t\t\t\t\t\t\t\t\t\t\t\t\n",
    "\t\t\t\t\t\t\t\t\t\t\t\t\t\t\n",
    "Task 6:\tPrepare a seperate presentation with your findings for each task and make a recommendation on which country XXX should focus on acquiring customers from based on the payback period. \n",
    "\n"
   ]
  },
  {
   "cell_type": "markdown",
   "metadata": {},
   "source": [
    "## Data Loading"
   ]
  },
  {
   "cell_type": "code",
   "execution_count": 122,
   "metadata": {},
   "outputs": [],
   "source": [
    "import pandas as pd\n",
    "import numpy as np\n",
    "import matplotlib.pyplot as plt\n",
    "df1= pd.read_csv('task1.csv')\n",
    "df2= pd.read_csv('task2.csv')\n",
    "df3= pd.read_csv('task3.csv')\n",
    "df4= pd.read_csv('task4.csv')"
   ]
  },
  {
   "cell_type": "markdown",
   "metadata": {},
   "source": [
    "\"\"\"\n",
    "ASSUMPTIONS:\n",
    "\n",
    "1:\n",
    "All values are the same currency.\n",
    "\n"
   ]
  },
  {
   "cell_type": "markdown",
   "metadata": {},
   "source": [
    "## Task 1"
   ]
  },
  {
   "cell_type": "markdown",
   "metadata": {},
   "source": [
    "\n",
    "#ASSUMPTIONS:\n",
    "\n",
    "Customer react fast after marketing impression, so there is no time lag between marketing impression and sign-up.\n",
    "To put it differently, all monthly signups are attributed to the marketing costs for the same month. Given XXX business model and fast sign up process, this simplification/ assumption seems reasonable.\n"
   ]
  },
  {
   "cell_type": "code",
   "execution_count": 123,
   "metadata": {},
   "outputs": [
    {
     "data": {
      "text/html": [
       "<div>\n",
       "<style scoped>\n",
       "    .dataframe tbody tr th:only-of-type {\n",
       "        vertical-align: middle;\n",
       "    }\n",
       "\n",
       "    .dataframe tbody tr th {\n",
       "        vertical-align: top;\n",
       "    }\n",
       "\n",
       "    .dataframe thead th {\n",
       "        text-align: right;\n",
       "    }\n",
       "</style>\n",
       "<table border=\"1\" class=\"dataframe\">\n",
       "  <thead>\n",
       "    <tr style=\"text-align: right;\">\n",
       "      <th>Marketing Cost</th>\n",
       "      <th>DEU</th>\n",
       "      <th>AUT</th>\n",
       "      <th>FRA</th>\n",
       "      <th>ITA</th>\n",
       "      <th>ESP</th>\n",
       "      <th>GBR</th>\n",
       "    </tr>\n",
       "    <tr>\n",
       "      <th>year</th>\n",
       "      <th></th>\n",
       "      <th></th>\n",
       "      <th></th>\n",
       "      <th></th>\n",
       "      <th></th>\n",
       "      <th></th>\n",
       "    </tr>\n",
       "  </thead>\n",
       "  <tbody>\n",
       "    <tr>\n",
       "      <th>2017</th>\n",
       "      <td>36490399</td>\n",
       "      <td>2980498</td>\n",
       "      <td>31835071</td>\n",
       "      <td>6413131</td>\n",
       "      <td>2827135</td>\n",
       "      <td>0</td>\n",
       "    </tr>\n",
       "    <tr>\n",
       "      <th>2018</th>\n",
       "      <td>121099477</td>\n",
       "      <td>10818756</td>\n",
       "      <td>96698494</td>\n",
       "      <td>62191952</td>\n",
       "      <td>36804899</td>\n",
       "      <td>21275184</td>\n",
       "    </tr>\n",
       "    <tr>\n",
       "      <th>2019</th>\n",
       "      <td>67316038</td>\n",
       "      <td>6142902</td>\n",
       "      <td>86677425</td>\n",
       "      <td>52712484</td>\n",
       "      <td>33713002</td>\n",
       "      <td>61957988</td>\n",
       "    </tr>\n",
       "  </tbody>\n",
       "</table>\n",
       "</div>"
      ],
      "text/plain": [
       "Marketing Cost        DEU       AUT       FRA       ITA       ESP       GBR\n",
       "year                                                                       \n",
       "2017             36490399   2980498  31835071   6413131   2827135         0\n",
       "2018            121099477  10818756  96698494  62191952  36804899  21275184\n",
       "2019             67316038   6142902  86677425  52712484  33713002  61957988"
      ]
     },
     "execution_count": 123,
     "metadata": {},
     "output_type": "execute_result"
    }
   ],
   "source": [
    "#marketing costs per year\n",
    "marketing_cost=df1.iloc[0:6, 0:32]\n",
    "marketing_cost=marketing_cost.set_index('Marketing Cost').transpose()\n",
    "marketing_cost=marketing_cost.astype('int')\n",
    "L=[]\n",
    "for e in marketing_cost.index:\n",
    "    L.append(e[0:4])\n",
    "marketing_cost['year']=L\n",
    "marketing_costs_year=marketing_cost.groupby('year').sum()\n",
    "marketing_costs_year"
   ]
  },
  {
   "cell_type": "code",
   "execution_count": 124,
   "metadata": {},
   "outputs": [
    {
     "data": {
      "text/html": [
       "<div>\n",
       "<style scoped>\n",
       "    .dataframe tbody tr th:only-of-type {\n",
       "        vertical-align: middle;\n",
       "    }\n",
       "\n",
       "    .dataframe tbody tr th {\n",
       "        vertical-align: top;\n",
       "    }\n",
       "\n",
       "    .dataframe thead th {\n",
       "        text-align: right;\n",
       "    }\n",
       "</style>\n",
       "<table border=\"1\" class=\"dataframe\">\n",
       "  <thead>\n",
       "    <tr style=\"text-align: right;\">\n",
       "      <th>Marketing Cost</th>\n",
       "      <th>DEU</th>\n",
       "      <th>AUT</th>\n",
       "      <th>FRA</th>\n",
       "      <th>ITA</th>\n",
       "      <th>ESP</th>\n",
       "      <th>GBR</th>\n",
       "    </tr>\n",
       "    <tr>\n",
       "      <th>year</th>\n",
       "      <th></th>\n",
       "      <th></th>\n",
       "      <th></th>\n",
       "      <th></th>\n",
       "      <th></th>\n",
       "      <th></th>\n",
       "    </tr>\n",
       "  </thead>\n",
       "  <tbody>\n",
       "    <tr>\n",
       "      <th>2017</th>\n",
       "      <td>815379</td>\n",
       "      <td>98906</td>\n",
       "      <td>874714</td>\n",
       "      <td>188239</td>\n",
       "      <td>121798</td>\n",
       "      <td>0</td>\n",
       "    </tr>\n",
       "    <tr>\n",
       "      <th>2018</th>\n",
       "      <td>1596086</td>\n",
       "      <td>179849</td>\n",
       "      <td>2241895</td>\n",
       "      <td>1315034</td>\n",
       "      <td>671330</td>\n",
       "      <td>426553</td>\n",
       "    </tr>\n",
       "    <tr>\n",
       "      <th>2019</th>\n",
       "      <td>1118320</td>\n",
       "      <td>135549</td>\n",
       "      <td>1776759</td>\n",
       "      <td>957068</td>\n",
       "      <td>542539</td>\n",
       "      <td>1168911</td>\n",
       "    </tr>\n",
       "  </tbody>\n",
       "</table>\n",
       "</div>"
      ],
      "text/plain": [
       "Marketing Cost      DEU     AUT      FRA      ITA     ESP      GBR\n",
       "year                                                              \n",
       "2017             815379   98906   874714   188239  121798        0\n",
       "2018            1596086  179849  2241895  1315034  671330   426553\n",
       "2019            1118320  135549  1776759   957068  542539  1168911"
      ]
     },
     "execution_count": 124,
     "metadata": {},
     "output_type": "execute_result"
    }
   ],
   "source": [
    "#signups per year\n",
    "sign_ups=df1.iloc[8:14, 0:32]\n",
    "sign_ups=sign_ups.set_index('Marketing Cost').transpose()\n",
    "sign_ups=sign_ups.astype('int')\n",
    "L=[]\n",
    "for e in sign_ups.index:\n",
    "    L.append(e[0:4])\n",
    "sign_ups['year']=L\n",
    "signups_year=sign_ups.groupby('year').sum()\n",
    "signups_year"
   ]
  },
  {
   "cell_type": "code",
   "execution_count": 125,
   "metadata": {},
   "outputs": [],
   "source": [
    "#divide marketing costs by number of newly aquired users\n",
    "signups_year.loc['2017', 'GBR'] = 1\n",
    "marketing_costs_year.loc['2017', 'GBR'] = 1\n",
    "cost_per_aquisition_yty = marketing_costs_year.div(signups_year.values)\n",
    "cost_per_aquisition_yty.loc['2017', 'GBR'] =0\n",
    "cost_per_aquisition_yty=cost_per_aquisition_yty.transpose()\n",
    "cost_per_aquisition_yty.index.name = ''\n",
    "cost_per_aquisition_yty['Country']=cost_per_aquisition_yty.index\n",
    "#print data ordered and by each of the three years 2017, 2018, 2019"
   ]
  },
  {
   "cell_type": "markdown",
   "metadata": {},
   "source": [
    "### Average CAC 2017"
   ]
  },
  {
   "cell_type": "code",
   "execution_count": 126,
   "metadata": {},
   "outputs": [
    {
     "data": {
      "text/html": [
       "<div>\n",
       "<style scoped>\n",
       "    .dataframe tbody tr th:only-of-type {\n",
       "        vertical-align: middle;\n",
       "    }\n",
       "\n",
       "    .dataframe tbody tr th {\n",
       "        vertical-align: top;\n",
       "    }\n",
       "\n",
       "    .dataframe thead th {\n",
       "        text-align: right;\n",
       "    }\n",
       "</style>\n",
       "<table border=\"1\" class=\"dataframe\">\n",
       "  <thead>\n",
       "    <tr style=\"text-align: right;\">\n",
       "      <th></th>\n",
       "      <th>Country</th>\n",
       "      <th>2017</th>\n",
       "    </tr>\n",
       "  </thead>\n",
       "  <tbody>\n",
       "    <tr>\n",
       "      <th>1</th>\n",
       "      <td>DEU</td>\n",
       "      <td>44.752684</td>\n",
       "    </tr>\n",
       "    <tr>\n",
       "      <th>2</th>\n",
       "      <td>FRA</td>\n",
       "      <td>36.394834</td>\n",
       "    </tr>\n",
       "    <tr>\n",
       "      <th>3</th>\n",
       "      <td>ITA</td>\n",
       "      <td>34.069088</td>\n",
       "    </tr>\n",
       "    <tr>\n",
       "      <th>4</th>\n",
       "      <td>AUT</td>\n",
       "      <td>30.134653</td>\n",
       "    </tr>\n",
       "    <tr>\n",
       "      <th>5</th>\n",
       "      <td>ESP</td>\n",
       "      <td>23.211670</td>\n",
       "    </tr>\n",
       "    <tr>\n",
       "      <th>6</th>\n",
       "      <td>GBR</td>\n",
       "      <td>0.000000</td>\n",
       "    </tr>\n",
       "  </tbody>\n",
       "</table>\n",
       "</div>"
      ],
      "text/plain": [
       "  Country       2017\n",
       "1     DEU  44.752684\n",
       "2     FRA  36.394834\n",
       "3     ITA  34.069088\n",
       "4     AUT  30.134653\n",
       "5     ESP  23.211670\n",
       "6     GBR   0.000000"
      ]
     },
     "execution_count": 126,
     "metadata": {},
     "output_type": "execute_result"
    }
   ],
   "source": [
    "_2017=cost_per_aquisition_yty[[ 'Country','2017']].sort_values(by=['2017'], ascending=False)\n",
    "s = pd.Series([1, 2, 3, 4, 5, 6])\n",
    "_2017=_2017.set_index([s])\n",
    "del _2017.columns.name\n",
    "_2017"
   ]
  },
  {
   "cell_type": "markdown",
   "metadata": {},
   "source": [
    "### Average CAC 2018"
   ]
  },
  {
   "cell_type": "code",
   "execution_count": 127,
   "metadata": {},
   "outputs": [
    {
     "data": {
      "text/html": [
       "<div>\n",
       "<style scoped>\n",
       "    .dataframe tbody tr th:only-of-type {\n",
       "        vertical-align: middle;\n",
       "    }\n",
       "\n",
       "    .dataframe tbody tr th {\n",
       "        vertical-align: top;\n",
       "    }\n",
       "\n",
       "    .dataframe thead th {\n",
       "        text-align: right;\n",
       "    }\n",
       "</style>\n",
       "<table border=\"1\" class=\"dataframe\">\n",
       "  <thead>\n",
       "    <tr style=\"text-align: right;\">\n",
       "      <th></th>\n",
       "      <th>Country</th>\n",
       "      <th>2018</th>\n",
       "    </tr>\n",
       "  </thead>\n",
       "  <tbody>\n",
       "    <tr>\n",
       "      <th>1</th>\n",
       "      <td>DEU</td>\n",
       "      <td>75.872777</td>\n",
       "    </tr>\n",
       "    <tr>\n",
       "      <th>2</th>\n",
       "      <td>AUT</td>\n",
       "      <td>60.154663</td>\n",
       "    </tr>\n",
       "    <tr>\n",
       "      <th>3</th>\n",
       "      <td>ESP</td>\n",
       "      <td>54.823856</td>\n",
       "    </tr>\n",
       "    <tr>\n",
       "      <th>4</th>\n",
       "      <td>GBR</td>\n",
       "      <td>49.877000</td>\n",
       "    </tr>\n",
       "    <tr>\n",
       "      <th>5</th>\n",
       "      <td>ITA</td>\n",
       "      <td>47.293037</td>\n",
       "    </tr>\n",
       "    <tr>\n",
       "      <th>6</th>\n",
       "      <td>FRA</td>\n",
       "      <td>43.132481</td>\n",
       "    </tr>\n",
       "  </tbody>\n",
       "</table>\n",
       "</div>"
      ],
      "text/plain": [
       "  Country       2018\n",
       "1     DEU  75.872777\n",
       "2     AUT  60.154663\n",
       "3     ESP  54.823856\n",
       "4     GBR  49.877000\n",
       "5     ITA  47.293037\n",
       "6     FRA  43.132481"
      ]
     },
     "execution_count": 127,
     "metadata": {},
     "output_type": "execute_result"
    }
   ],
   "source": [
    "_2018=cost_per_aquisition_yty[['Country','2018']].sort_values(by=['2018'], ascending=False)\n",
    "_2018=_2018.set_index([s])\n",
    "del _2018.columns.name\n",
    "_2018"
   ]
  },
  {
   "cell_type": "markdown",
   "metadata": {},
   "source": [
    "### Average CAC 2019 YTD"
   ]
  },
  {
   "cell_type": "code",
   "execution_count": 128,
   "metadata": {},
   "outputs": [
    {
     "data": {
      "text/html": [
       "<div>\n",
       "<style scoped>\n",
       "    .dataframe tbody tr th:only-of-type {\n",
       "        vertical-align: middle;\n",
       "    }\n",
       "\n",
       "    .dataframe tbody tr th {\n",
       "        vertical-align: top;\n",
       "    }\n",
       "\n",
       "    .dataframe thead th {\n",
       "        text-align: right;\n",
       "    }\n",
       "</style>\n",
       "<table border=\"1\" class=\"dataframe\">\n",
       "  <thead>\n",
       "    <tr style=\"text-align: right;\">\n",
       "      <th></th>\n",
       "      <th>Country</th>\n",
       "      <th>2019</th>\n",
       "    </tr>\n",
       "  </thead>\n",
       "  <tbody>\n",
       "    <tr>\n",
       "      <th>1</th>\n",
       "      <td>ESP</td>\n",
       "      <td>62.139315</td>\n",
       "    </tr>\n",
       "    <tr>\n",
       "      <th>2</th>\n",
       "      <td>DEU</td>\n",
       "      <td>60.193896</td>\n",
       "    </tr>\n",
       "    <tr>\n",
       "      <th>3</th>\n",
       "      <td>ITA</td>\n",
       "      <td>55.077052</td>\n",
       "    </tr>\n",
       "    <tr>\n",
       "      <th>4</th>\n",
       "      <td>GBR</td>\n",
       "      <td>53.004881</td>\n",
       "    </tr>\n",
       "    <tr>\n",
       "      <th>5</th>\n",
       "      <td>FRA</td>\n",
       "      <td>48.784008</td>\n",
       "    </tr>\n",
       "    <tr>\n",
       "      <th>6</th>\n",
       "      <td>AUT</td>\n",
       "      <td>45.318682</td>\n",
       "    </tr>\n",
       "  </tbody>\n",
       "</table>\n",
       "</div>"
      ],
      "text/plain": [
       "  Country       2019\n",
       "1     ESP  62.139315\n",
       "2     DEU  60.193896\n",
       "3     ITA  55.077052\n",
       "4     GBR  53.004881\n",
       "5     FRA  48.784008\n",
       "6     AUT  45.318682"
      ]
     },
     "execution_count": 128,
     "metadata": {},
     "output_type": "execute_result"
    }
   ],
   "source": [
    "_2019=cost_per_aquisition_yty[['Country','2019']].sort_values(by=['2019'], ascending=False)\n",
    "_2019=_2019.set_index([s])\n",
    "del _2019.columns.name\n",
    "_2019"
   ]
  },
  {
   "cell_type": "code",
   "execution_count": 129,
   "metadata": {},
   "outputs": [
    {
     "data": {
      "image/png": "[encoded data removed]",
      "text/plain": [
       "<Figure size 720x360 with 1 Axes>"
      ]
     },
     "metadata": {},
     "output_type": "display_data"
    }
   ],
   "source": [
    "#NOT PART OF THE NUMERCAL SOLUTION ONLY FOR GRAPH PURPOSES FOR THE PRESENTATION\n",
    "graph0=_2017.merge(_2018, on='Country').merge(_2019, on='Country')\n",
    "x=graph0.transpose()\n",
    "x=x.rename(columns=x.iloc[0]).iloc[1:]\n",
    "x['year']=[2017, 2018, 2019]\n",
    "x.plot(x='year', y=['FRA', 'DEU', 'AUT','ESP','ITA', 'GBR'], figsize=(10,5), grid=True)\n",
    "plt.ylabel('Average CAC')\n",
    "plt.show()"
   ]
  },
  {
   "cell_type": "code",
   "execution_count": 130,
   "metadata": {},
   "outputs": [
    {
     "data": {
      "image/png": "[encoded data removed]",
      "text/plain": [
       "<Figure size 432x288 with 1 Axes>"
      ]
     },
     "metadata": {},
     "output_type": "display_data"
    }
   ],
   "source": [
    "#NOT PART OF THE NUMERCAL SOLUTION ONLY FOR GRAPH PURPOSES FOR THE PRESENTATION\n",
    "MC_graph=marketing_costs_year.transpose()\n",
    "MC_graph['Country']=MC_graph.index\n",
    "MC_graph.plot(x ='Country', y=['2017', '2018', '2019'], kind = 'bar')\n",
    "plt.ylabel('Marketing Costs (100m)')\n",
    "plt.show()"
   ]
  },
  {
   "cell_type": "code",
   "execution_count": 131,
   "metadata": {},
   "outputs": [
    {
     "data": {
      "text/html": [
       "<div>\n",
       "<style scoped>\n",
       "    .dataframe tbody tr th:only-of-type {\n",
       "        vertical-align: middle;\n",
       "    }\n",
       "\n",
       "    .dataframe tbody tr th {\n",
       "        vertical-align: top;\n",
       "    }\n",
       "\n",
       "    .dataframe thead th {\n",
       "        text-align: right;\n",
       "    }\n",
       "</style>\n",
       "<table border=\"1\" class=\"dataframe\">\n",
       "  <thead>\n",
       "    <tr style=\"text-align: right;\">\n",
       "      <th>year</th>\n",
       "      <th>2017</th>\n",
       "      <th>2018</th>\n",
       "      <th>2019</th>\n",
       "      <th>Country</th>\n",
       "    </tr>\n",
       "    <tr>\n",
       "      <th></th>\n",
       "      <th></th>\n",
       "      <th></th>\n",
       "      <th></th>\n",
       "      <th></th>\n",
       "    </tr>\n",
       "  </thead>\n",
       "  <tbody>\n",
       "    <tr>\n",
       "      <th>DEU</th>\n",
       "      <td>36490399</td>\n",
       "      <td>121099477</td>\n",
       "      <td>67316038</td>\n",
       "      <td>DEU</td>\n",
       "    </tr>\n",
       "    <tr>\n",
       "      <th>AUT</th>\n",
       "      <td>2980498</td>\n",
       "      <td>10818756</td>\n",
       "      <td>6142902</td>\n",
       "      <td>AUT</td>\n",
       "    </tr>\n",
       "    <tr>\n",
       "      <th>FRA</th>\n",
       "      <td>31835071</td>\n",
       "      <td>96698494</td>\n",
       "      <td>86677425</td>\n",
       "      <td>FRA</td>\n",
       "    </tr>\n",
       "    <tr>\n",
       "      <th>ITA</th>\n",
       "      <td>6413131</td>\n",
       "      <td>62191952</td>\n",
       "      <td>52712484</td>\n",
       "      <td>ITA</td>\n",
       "    </tr>\n",
       "    <tr>\n",
       "      <th>ESP</th>\n",
       "      <td>2827135</td>\n",
       "      <td>36804899</td>\n",
       "      <td>33713002</td>\n",
       "      <td>ESP</td>\n",
       "    </tr>\n",
       "    <tr>\n",
       "      <th>GBR</th>\n",
       "      <td>1</td>\n",
       "      <td>21275184</td>\n",
       "      <td>61957988</td>\n",
       "      <td>GBR</td>\n",
       "    </tr>\n",
       "  </tbody>\n",
       "</table>\n",
       "</div>"
      ],
      "text/plain": [
       "year      2017       2018      2019 Country\n",
       "                                           \n",
       "DEU   36490399  121099477  67316038     DEU\n",
       "AUT    2980498   10818756   6142902     AUT\n",
       "FRA   31835071   96698494  86677425     FRA\n",
       "ITA    6413131   62191952  52712484     ITA\n",
       "ESP    2827135   36804899  33713002     ESP\n",
       "GBR          1   21275184  61957988     GBR"
      ]
     },
     "execution_count": 131,
     "metadata": {},
     "output_type": "execute_result"
    }
   ],
   "source": [
    "#NOT PART OF THE NUMERCAL SOLUTION ONLY FOR GRAPH PURPOSES FOR THE PRESENTATION\n",
    "MC_graph"
   ]
  },
  {
   "cell_type": "code",
   "execution_count": 132,
   "metadata": {},
   "outputs": [
    {
     "data": {
      "text/plain": [
       "Text(0,0.5,'Marketing Costs (100m)')"
      ]
     },
     "execution_count": 132,
     "metadata": {},
     "output_type": "execute_result"
    },
    {
     "data": {
      "image/png": "[encoded data removed]",
      "text/plain": [
       "<Figure size 432x288 with 1 Axes>"
      ]
     },
     "metadata": {},
     "output_type": "display_data"
    }
   ],
   "source": [
    "#NOT PART OF THE NUMERCAL SOLUTION ONLY FOR GRAPH PURPOSES FOR THE PRESENTATION\n",
    "x=['2017', '2018', '2019']\n",
    "yp=MC_graph.drop(['Country'], axis=1)\n",
    "y1=list(yp.loc['DEU'])\n",
    "y2=list(yp.loc['AUT'])\n",
    "y3=list(yp.loc['FRA'])\n",
    "y4=list(yp.loc['ITA'])\n",
    "y5=list(yp.loc['ESP'])\n",
    "y6=list(yp.loc['GBR'])\n",
    "plt.stackplot(x,[y1, y2,y3,y4,y5,y6], labels=['DEU','AUT','FRA','ITA','ESP','GBR'])\n",
    "plt.legend(loc='upper left')\n",
    "plt.ylabel('Marketing Costs (100m)')"
   ]
  },
  {
   "cell_type": "code",
   "execution_count": 133,
   "metadata": {},
   "outputs": [
    {
     "data": {
      "image/png": "[encoded data removed]",
      "text/plain": [
       "<Figure size 432x288 with 1 Axes>"
      ]
     },
     "metadata": {},
     "output_type": "display_data"
    }
   ],
   "source": [
    "#NOT PART OF THE NUMERCAL SOLUTION ONLY FOR GRAPH PURPOSES FOR THE PRESENTATION\n",
    "SU_graph=signups_year.transpose()\n",
    "SU_graph['Country']=SU_graph.index\n",
    "SU_graph.plot(x ='Country', y=['2017', '2018', '2019'], kind = 'bar')\n",
    "plt.ylabel('# of Yearly Signups')\n",
    "plt.show()"
   ]
  },
  {
   "cell_type": "code",
   "execution_count": 134,
   "metadata": {},
   "outputs": [
    {
     "data": {
      "text/plain": [
       "Text(0,0.5,'# of Yearly Signups')"
      ]
     },
     "execution_count": 134,
     "metadata": {},
     "output_type": "execute_result"
    },
    {
     "data": {
      "image/png": "[encoded data removed]",
      "text/plain": [
       "<Figure size 432x288 with 1 Axes>"
      ]
     },
     "metadata": {},
     "output_type": "display_data"
    }
   ],
   "source": [
    "#NOT PART OF THE NUMERCAL SOLUTION ONLY FOR GRAPH PURPOSES FOR THE PRESENTATION\n",
    "x=['2017', '2018', '2019']\n",
    "yp=SU_graph.drop(['Country'], axis=1)\n",
    "y1=list(yp.loc['DEU'])\n",
    "y2=list(yp.loc['AUT'])\n",
    "y3=list(yp.loc['FRA'])\n",
    "y4=list(yp.loc['ITA'])\n",
    "y5=list(yp.loc['ESP'])\n",
    "y6=list(yp.loc['GBR'])\n",
    "plt.stackplot(x,[y1, y2,y3,y4,y5,y6], labels=['DEU','AUT','FRA','ITA','ESP','GBR'])\n",
    "plt.legend(loc='upper left')\n",
    "plt.ylabel('# of Yearly Signups')"
   ]
  },
  {
   "cell_type": "code",
   "execution_count": 135,
   "metadata": {},
   "outputs": [
    {
     "data": {
      "image/png": "[encoded data removed]",
      "text/plain": [
       "<Figure size 432x288 with 1 Axes>"
      ]
     },
     "metadata": {},
     "output_type": "display_data"
    }
   ],
   "source": [
    "#NOT PART OF THE NUMERCAL SOLUTION ONLY FOR GRAPH PURPOSES FOR THE PRESENTATION\n",
    "SU_graph=signups_year.transpose()\n",
    "SU_graph['Country']=SU_graph.index\n",
    "SU_graph.plot(x ='Country', y=['2017', '2018', '2019'], kind = 'bar')\n",
    "plt.ylabel('# of Yearly Signups')\n",
    "plt.show()"
   ]
  },
  {
   "cell_type": "markdown",
   "metadata": {},
   "source": [
    "## Task 2.1"
   ]
  },
  {
   "cell_type": "markdown",
   "metadata": {},
   "source": [
    "### Percentage of Active Users out of Total Users 2017"
   ]
  },
  {
   "cell_type": "code",
   "execution_count": 136,
   "metadata": {},
   "outputs": [
    {
     "data": {
      "text/html": [
       "<div>\n",
       "<style scoped>\n",
       "    .dataframe tbody tr th:only-of-type {\n",
       "        vertical-align: middle;\n",
       "    }\n",
       "\n",
       "    .dataframe tbody tr th {\n",
       "        vertical-align: top;\n",
       "    }\n",
       "\n",
       "    .dataframe thead th {\n",
       "        text-align: right;\n",
       "    }\n",
       "</style>\n",
       "<table border=\"1\" class=\"dataframe\">\n",
       "  <thead>\n",
       "    <tr style=\"text-align: right;\">\n",
       "      <th></th>\n",
       "      <th>Country</th>\n",
       "      <th>Active_Percentage</th>\n",
       "    </tr>\n",
       "  </thead>\n",
       "  <tbody>\n",
       "    <tr>\n",
       "      <th>1</th>\n",
       "      <td>FRA</td>\n",
       "      <td>96.107520</td>\n",
       "    </tr>\n",
       "    <tr>\n",
       "      <th>2</th>\n",
       "      <td>DEU</td>\n",
       "      <td>85.152385</td>\n",
       "    </tr>\n",
       "    <tr>\n",
       "      <th>3</th>\n",
       "      <td>AUT</td>\n",
       "      <td>74.218768</td>\n",
       "    </tr>\n",
       "    <tr>\n",
       "      <th>4</th>\n",
       "      <td>ESP</td>\n",
       "      <td>43.237119</td>\n",
       "    </tr>\n",
       "    <tr>\n",
       "      <th>5</th>\n",
       "      <td>ITA</td>\n",
       "      <td>30.844548</td>\n",
       "    </tr>\n",
       "  </tbody>\n",
       "</table>\n",
       "</div>"
      ],
      "text/plain": [
       "  Country  Active_Percentage\n",
       "1     FRA          96.107520\n",
       "2     DEU          85.152385\n",
       "3     AUT          74.218768\n",
       "4     ESP          43.237119\n",
       "5     ITA          30.844548"
      ]
     },
     "execution_count": 136,
     "metadata": {},
     "output_type": "execute_result"
    }
   ],
   "source": [
    "# select out of the all data the 12 elapsed months of 2017, sort the relevant data and print it\n",
    "df2 = df2.sort_values(['Country','Months elapsed'])\n",
    "s1=pd.Series([1, 2, 3, 4, 5])\n",
    "L1=[]\n",
    "for e in df2['Active']:\n",
    "    L1.append((e*100))\n",
    "df2['Active_Percentage']=L1\n",
    "_2017_21=df2[(df2.Date=='2017-01') & (df2['Date Number']=='2017-12')].sort_values(by=['Active_Percentage'], ascending=False).set_index([s1])\n",
    "AR2017=_2017_21[['Country', 'Active_Percentage']]\n",
    "AR2017"
   ]
  },
  {
   "cell_type": "markdown",
   "metadata": {},
   "source": [
    "### Percentage of Active Users of Total Users 2018"
   ]
  },
  {
   "cell_type": "code",
   "execution_count": 137,
   "metadata": {},
   "outputs": [
    {
     "data": {
      "text/html": [
       "<div>\n",
       "<style scoped>\n",
       "    .dataframe tbody tr th:only-of-type {\n",
       "        vertical-align: middle;\n",
       "    }\n",
       "\n",
       "    .dataframe tbody tr th {\n",
       "        vertical-align: top;\n",
       "    }\n",
       "\n",
       "    .dataframe thead th {\n",
       "        text-align: right;\n",
       "    }\n",
       "</style>\n",
       "<table border=\"1\" class=\"dataframe\">\n",
       "  <thead>\n",
       "    <tr style=\"text-align: right;\">\n",
       "      <th></th>\n",
       "      <th>Country</th>\n",
       "      <th>Active_Percentage</th>\n",
       "    </tr>\n",
       "  </thead>\n",
       "  <tbody>\n",
       "    <tr>\n",
       "      <th>1</th>\n",
       "      <td>AUT</td>\n",
       "      <td>88.271501</td>\n",
       "    </tr>\n",
       "    <tr>\n",
       "      <th>2</th>\n",
       "      <td>DEU</td>\n",
       "      <td>85.183216</td>\n",
       "    </tr>\n",
       "    <tr>\n",
       "      <th>3</th>\n",
       "      <td>FRA</td>\n",
       "      <td>67.937564</td>\n",
       "    </tr>\n",
       "    <tr>\n",
       "      <th>4</th>\n",
       "      <td>ITA</td>\n",
       "      <td>62.997198</td>\n",
       "    </tr>\n",
       "    <tr>\n",
       "      <th>5</th>\n",
       "      <td>ESP</td>\n",
       "      <td>44.170750</td>\n",
       "    </tr>\n",
       "  </tbody>\n",
       "</table>\n",
       "</div>"
      ],
      "text/plain": [
       "  Country  Active_Percentage\n",
       "1     AUT          88.271501\n",
       "2     DEU          85.183216\n",
       "3     FRA          67.937564\n",
       "4     ITA          62.997198\n",
       "5     ESP          44.170750"
      ]
     },
     "execution_count": 137,
     "metadata": {},
     "output_type": "execute_result"
    }
   ],
   "source": [
    "# select out of the all data the 12 elapsed months of 2018, sort the relevant data and print it\n",
    "_2018_21=df2[(df2.Date=='2018-01') & (df2['Date Number']=='2018-12')].sort_values(by=['Active_Percentage'], ascending=False).set_index([s1])\n",
    "AR2018=_2018_21[['Country', 'Active_Percentage']]\n",
    "AR2018"
   ]
  },
  {
   "cell_type": "markdown",
   "metadata": {},
   "source": [
    "### Percentage of Active Users of Total Users  2019 YTD"
   ]
  },
  {
   "cell_type": "code",
   "execution_count": 138,
   "metadata": {},
   "outputs": [
    {
     "data": {
      "text/html": [
       "<div>\n",
       "<style scoped>\n",
       "    .dataframe tbody tr th:only-of-type {\n",
       "        vertical-align: middle;\n",
       "    }\n",
       "\n",
       "    .dataframe tbody tr th {\n",
       "        vertical-align: top;\n",
       "    }\n",
       "\n",
       "    .dataframe thead th {\n",
       "        text-align: right;\n",
       "    }\n",
       "</style>\n",
       "<table border=\"1\" class=\"dataframe\">\n",
       "  <thead>\n",
       "    <tr style=\"text-align: right;\">\n",
       "      <th></th>\n",
       "      <th>Country</th>\n",
       "      <th>Active_Percentage</th>\n",
       "    </tr>\n",
       "  </thead>\n",
       "  <tbody>\n",
       "    <tr>\n",
       "      <th>1</th>\n",
       "      <td>DEU</td>\n",
       "      <td>86.131709</td>\n",
       "    </tr>\n",
       "    <tr>\n",
       "      <th>2</th>\n",
       "      <td>AUT</td>\n",
       "      <td>72.496420</td>\n",
       "    </tr>\n",
       "    <tr>\n",
       "      <th>3</th>\n",
       "      <td>FRA</td>\n",
       "      <td>57.572641</td>\n",
       "    </tr>\n",
       "    <tr>\n",
       "      <th>4</th>\n",
       "      <td>ITA</td>\n",
       "      <td>47.521761</td>\n",
       "    </tr>\n",
       "    <tr>\n",
       "      <th>5</th>\n",
       "      <td>ESP</td>\n",
       "      <td>41.771269</td>\n",
       "    </tr>\n",
       "    <tr>\n",
       "      <th>6</th>\n",
       "      <td>GBR</td>\n",
       "      <td>33.805860</td>\n",
       "    </tr>\n",
       "  </tbody>\n",
       "</table>\n",
       "</div>"
      ],
      "text/plain": [
       "  Country  Active_Percentage\n",
       "1     DEU          86.131709\n",
       "2     AUT          72.496420\n",
       "3     FRA          57.572641\n",
       "4     ITA          47.521761\n",
       "5     ESP          41.771269\n",
       "6     GBR          33.805860"
      ]
     },
     "execution_count": 138,
     "metadata": {},
     "output_type": "execute_result"
    }
   ],
   "source": [
    "# select out of the all data the 6 elapsed months of 2019, sort the relevant data and print it\n",
    "_2019_21=df2[(df2.Date=='2019-01') & (df2['Date Number']=='2019-06')].sort_values(by=['Active_Percentage'], ascending=False).set_index([s])\n",
    "AR2019=_2019_21[['Country', 'Active_Percentage']]\n",
    "AR2019"
   ]
  },
  {
   "cell_type": "code",
   "execution_count": 139,
   "metadata": {},
   "outputs": [
    {
     "data": {
      "text/plain": [
       "<matplotlib.axes._subplots.AxesSubplot at 0x11d699240>"
      ]
     },
     "execution_count": 139,
     "metadata": {},
     "output_type": "execute_result"
    },
    {
     "data": {
      "image/png": "[encoded data removed]",
      "text/plain": [
       "<Figure size 720x360 with 1 Axes>"
      ]
     },
     "metadata": {},
     "output_type": "display_data"
    }
   ],
   "source": [
    "#NOT PART OF THE NUMERCAL SOLUTION ONLY FOR GRAPH PURPOSES FOR THE PRESENTATION\n",
    "graph1=AR2017.merge(AR2018, on='Country').merge(AR2019, on='Country')\n",
    "x=graph1.transpose()\n",
    "x=x.rename(columns=x.iloc[0]).iloc[1:]\n",
    "x['year']=[2017, 2018, 2019]\n",
    "x.plot(x='year', y=['FRA', 'DEU', 'AUT','ESP','ITA'], figsize=(10,5), grid=True)"
   ]
  },
  {
   "cell_type": "code",
   "execution_count": 140,
   "metadata": {},
   "outputs": [
    {
     "data": {
      "text/plain": [
       "Text(0,0.5,'% of Total User Active')"
      ]
     },
     "execution_count": 140,
     "metadata": {},
     "output_type": "execute_result"
    },
    {
     "data": {
      "image/png": "[encoded data removed]",
      "text/plain": [
       "<Figure size 432x288 with 1 Axes>"
      ]
     },
     "metadata": {},
     "output_type": "display_data"
    }
   ],
   "source": [
    "#NOT PART OF THE NUMERCAL SOLUTION ONLY FOR GRAPH PURPOSES FOR THE PRESENTATION\n",
    "graph1=graph1.rename(columns = {\"Active_Percentage_x\": \"2017\", \n",
    "                  \"Active_Percentage_y\": \"2018\", \n",
    "                     \"Active_Percentage\":\"2019\"}, )\n",
    "graph1.plot(x ='Country', y=['2017', '2018', '2019'], kind = 'bar', )\n",
    "plt.ylabel('% of Total User Active')"
   ]
  },
  {
   "cell_type": "markdown",
   "metadata": {},
   "source": [
    "## Task 2.2"
   ]
  },
  {
   "cell_type": "markdown",
   "metadata": {},
   "source": [
    "\"\"\"\n",
    "ASSUMPTIONS:\n",
    "\n",
    "The activity rate of the entire user base for a country is proportinal/ representative for the activity rate of \n",
    "the newly signed cohort.\n",
    "\"\"\""
   ]
  },
  {
   "cell_type": "markdown",
   "metadata": {},
   "source": [
    "### Number of Active Users in 2019-06 Cohort"
   ]
  },
  {
   "cell_type": "code",
   "execution_count": 141,
   "metadata": {},
   "outputs": [
    {
     "data": {
      "text/html": [
       "<div>\n",
       "<style scoped>\n",
       "    .dataframe tbody tr th:only-of-type {\n",
       "        vertical-align: middle;\n",
       "    }\n",
       "\n",
       "    .dataframe tbody tr th {\n",
       "        vertical-align: top;\n",
       "    }\n",
       "\n",
       "    .dataframe thead th {\n",
       "        text-align: right;\n",
       "    }\n",
       "</style>\n",
       "<table border=\"1\" class=\"dataframe\">\n",
       "  <thead>\n",
       "    <tr style=\"text-align: right;\">\n",
       "      <th></th>\n",
       "      <th>Country</th>\n",
       "      <th>active_2019_06_cohort</th>\n",
       "    </tr>\n",
       "  </thead>\n",
       "  <tbody>\n",
       "    <tr>\n",
       "      <th>1</th>\n",
       "      <td>FRA</td>\n",
       "      <td>88767.122316</td>\n",
       "    </tr>\n",
       "    <tr>\n",
       "      <th>2</th>\n",
       "      <td>DEU</td>\n",
       "      <td>73479.271116</td>\n",
       "    </tr>\n",
       "    <tr>\n",
       "      <th>3</th>\n",
       "      <td>GBR</td>\n",
       "      <td>42670.945805</td>\n",
       "    </tr>\n",
       "    <tr>\n",
       "      <th>4</th>\n",
       "      <td>ITA</td>\n",
       "      <td>36923.404374</td>\n",
       "    </tr>\n",
       "    <tr>\n",
       "      <th>5</th>\n",
       "      <td>ESP</td>\n",
       "      <td>25786.246975</td>\n",
       "    </tr>\n",
       "    <tr>\n",
       "      <th>6</th>\n",
       "      <td>AUT</td>\n",
       "      <td>11040.236565</td>\n",
       "    </tr>\n",
       "  </tbody>\n",
       "</table>\n",
       "</div>"
      ],
      "text/plain": [
       "  Country  active_2019_06_cohort\n",
       "1     FRA           88767.122316\n",
       "2     DEU           73479.271116\n",
       "3     GBR           42670.945805\n",
       "4     ITA           36923.404374\n",
       "5     ESP           25786.246975\n",
       "6     AUT           11040.236565"
      ]
     },
     "execution_count": 141,
     "metadata": {},
     "output_type": "execute_result"
    }
   ],
   "source": [
    "# get the number of signups in 2019-06 and multiply it with the average activity rate, then rank the resulting table by the result\n",
    "active_2019_06=df2[(df2.Date=='2019-06') & (df2['Date Number']=='2019-06')][['Country', 'Active']]\n",
    "sign_ups_2019_06=sign_ups.loc[['2019-06']].transpose()\n",
    "sign_ups_2019_06['Country']=sign_ups_2019_06.index\n",
    "sign_ups_2019_06=sign_ups_2019_06.iloc[:6].sort_values(by=['Country'])\n",
    "L2=[]\n",
    "for e in sign_ups_2019_06['2019-06']:\n",
    "    L2.append(float(e))\n",
    "active_2019_06['nub_signups_2019_06']=L2\n",
    "active_2019_06['active_2019_06_cohort']=active_2019_06.nub_signups_2019_06*(active_2019_06.Active)\n",
    "result22=active_2019_06[['Country', 'active_2019_06_cohort']].sort_values(by=['active_2019_06_cohort'], ascending=False).set_index([s])\n",
    "result22"
   ]
  },
  {
   "cell_type": "markdown",
   "metadata": {},
   "source": [
    "## Task 3.1"
   ]
  },
  {
   "cell_type": "markdown",
   "metadata": {},
   "source": [
    "\"\"\"\n",
    "ASSUMPTIONS:\n",
    "\n",
    "The data for \"Card Transaction Volume p. Active User\" is not normalised to a common unit such as average transaction per month or per year. \n",
    "This is a reasonable assumption as the number deviates significatly with regard to the \"months elapsed\" variable. \n",
    "\n",
    "\"\"\""
   ]
  },
  {
   "cell_type": "markdown",
   "metadata": {},
   "source": [
    "### Average TX Volume 2017"
   ]
  },
  {
   "cell_type": "code",
   "execution_count": 142,
   "metadata": {},
   "outputs": [
    {
     "data": {
      "text/html": [
       "<div>\n",
       "<style scoped>\n",
       "    .dataframe tbody tr th:only-of-type {\n",
       "        vertical-align: middle;\n",
       "    }\n",
       "\n",
       "    .dataframe tbody tr th {\n",
       "        vertical-align: top;\n",
       "    }\n",
       "\n",
       "    .dataframe thead th {\n",
       "        text-align: right;\n",
       "    }\n",
       "</style>\n",
       "<table border=\"1\" class=\"dataframe\">\n",
       "  <thead>\n",
       "    <tr style=\"text-align: right;\">\n",
       "      <th></th>\n",
       "      <th>Country</th>\n",
       "      <th>Avg_TX</th>\n",
       "    </tr>\n",
       "  </thead>\n",
       "  <tbody>\n",
       "    <tr>\n",
       "      <th>1</th>\n",
       "      <td>ITA</td>\n",
       "      <td>1993.621770</td>\n",
       "    </tr>\n",
       "    <tr>\n",
       "      <th>2</th>\n",
       "      <td>ESP</td>\n",
       "      <td>1669.089854</td>\n",
       "    </tr>\n",
       "    <tr>\n",
       "      <th>3</th>\n",
       "      <td>DEU</td>\n",
       "      <td>1293.760438</td>\n",
       "    </tr>\n",
       "    <tr>\n",
       "      <th>4</th>\n",
       "      <td>FRA</td>\n",
       "      <td>1093.743538</td>\n",
       "    </tr>\n",
       "    <tr>\n",
       "      <th>5</th>\n",
       "      <td>AUT</td>\n",
       "      <td>884.918184</td>\n",
       "    </tr>\n",
       "  </tbody>\n",
       "</table>\n",
       "</div>"
      ],
      "text/plain": [
       "  Country       Avg_TX\n",
       "1     ITA  1993.621770\n",
       "2     ESP  1669.089854\n",
       "3     DEU  1293.760438\n",
       "4     FRA  1093.743538\n",
       "5     AUT   884.918184"
      ]
     },
     "execution_count": 142,
     "metadata": {},
     "output_type": "execute_result"
    }
   ],
   "source": [
    "# select out of the all data the 12 elapsed months of 2017, sort the relevant data and print it\n",
    "df3 = df3.sort_values(['Country','Months elapsed'])\n",
    "L3=[]\n",
    "for e in df3['TX']:\n",
    "    L3.append((e))\n",
    "df3['Avg_TX']=L3\n",
    "_2017_31=df3[(df3.Date=='2017-01') & (df3['Date Number']=='2017-12')].sort_values(by=['Avg_TX'], ascending=False).set_index([s1])\n",
    "L31_2017=_2017_31[['Country', 'Avg_TX']]\n",
    "L31_2017"
   ]
  },
  {
   "cell_type": "markdown",
   "metadata": {},
   "source": [
    "### Average TX Volume 2018"
   ]
  },
  {
   "cell_type": "code",
   "execution_count": 143,
   "metadata": {},
   "outputs": [
    {
     "data": {
      "text/html": [
       "<div>\n",
       "<style scoped>\n",
       "    .dataframe tbody tr th:only-of-type {\n",
       "        vertical-align: middle;\n",
       "    }\n",
       "\n",
       "    .dataframe tbody tr th {\n",
       "        vertical-align: top;\n",
       "    }\n",
       "\n",
       "    .dataframe thead th {\n",
       "        text-align: right;\n",
       "    }\n",
       "</style>\n",
       "<table border=\"1\" class=\"dataframe\">\n",
       "  <thead>\n",
       "    <tr style=\"text-align: right;\">\n",
       "      <th></th>\n",
       "      <th>Country</th>\n",
       "      <th>Avg_TX</th>\n",
       "    </tr>\n",
       "  </thead>\n",
       "  <tbody>\n",
       "    <tr>\n",
       "      <th>1</th>\n",
       "      <td>DEU</td>\n",
       "      <td>1523.011507</td>\n",
       "    </tr>\n",
       "    <tr>\n",
       "      <th>2</th>\n",
       "      <td>ITA</td>\n",
       "      <td>1038.228777</td>\n",
       "    </tr>\n",
       "    <tr>\n",
       "      <th>3</th>\n",
       "      <td>FRA</td>\n",
       "      <td>984.346487</td>\n",
       "    </tr>\n",
       "    <tr>\n",
       "      <th>4</th>\n",
       "      <td>AUT</td>\n",
       "      <td>918.939921</td>\n",
       "    </tr>\n",
       "    <tr>\n",
       "      <th>5</th>\n",
       "      <td>ESP</td>\n",
       "      <td>731.666496</td>\n",
       "    </tr>\n",
       "  </tbody>\n",
       "</table>\n",
       "</div>"
      ],
      "text/plain": [
       "  Country       Avg_TX\n",
       "1     DEU  1523.011507\n",
       "2     ITA  1038.228777\n",
       "3     FRA   984.346487\n",
       "4     AUT   918.939921\n",
       "5     ESP   731.666496"
      ]
     },
     "execution_count": 143,
     "metadata": {},
     "output_type": "execute_result"
    }
   ],
   "source": [
    "# select out of the all data the 12 elapsed months of 2018, sort the relevant data and print it\n",
    "_2018_31=df3[(df3.Date=='2018-01') & (df3['Date Number']=='2018-12')].sort_values(by=['Avg_TX'], ascending=False).set_index([s1])\n",
    "L31_2018=_2018_31[['Country', 'Avg_TX']]\n",
    "L31_2018"
   ]
  },
  {
   "cell_type": "markdown",
   "metadata": {},
   "source": [
    "### Average TX Volume 2019 YTD"
   ]
  },
  {
   "cell_type": "code",
   "execution_count": 144,
   "metadata": {},
   "outputs": [
    {
     "data": {
      "text/html": [
       "<div>\n",
       "<style scoped>\n",
       "    .dataframe tbody tr th:only-of-type {\n",
       "        vertical-align: middle;\n",
       "    }\n",
       "\n",
       "    .dataframe tbody tr th {\n",
       "        vertical-align: top;\n",
       "    }\n",
       "\n",
       "    .dataframe thead th {\n",
       "        text-align: right;\n",
       "    }\n",
       "</style>\n",
       "<table border=\"1\" class=\"dataframe\">\n",
       "  <thead>\n",
       "    <tr style=\"text-align: right;\">\n",
       "      <th></th>\n",
       "      <th>Country</th>\n",
       "      <th>Avg_TX</th>\n",
       "    </tr>\n",
       "  </thead>\n",
       "  <tbody>\n",
       "    <tr>\n",
       "      <th>1</th>\n",
       "      <td>DEU</td>\n",
       "      <td>1066.482133</td>\n",
       "    </tr>\n",
       "    <tr>\n",
       "      <th>2</th>\n",
       "      <td>AUT</td>\n",
       "      <td>742.828157</td>\n",
       "    </tr>\n",
       "    <tr>\n",
       "      <th>3</th>\n",
       "      <td>FRA</td>\n",
       "      <td>702.121338</td>\n",
       "    </tr>\n",
       "    <tr>\n",
       "      <th>4</th>\n",
       "      <td>ITA</td>\n",
       "      <td>552.854526</td>\n",
       "    </tr>\n",
       "    <tr>\n",
       "      <th>5</th>\n",
       "      <td>GBR</td>\n",
       "      <td>505.339586</td>\n",
       "    </tr>\n",
       "    <tr>\n",
       "      <th>6</th>\n",
       "      <td>ESP</td>\n",
       "      <td>481.166310</td>\n",
       "    </tr>\n",
       "  </tbody>\n",
       "</table>\n",
       "</div>"
      ],
      "text/plain": [
       "  Country       Avg_TX\n",
       "1     DEU  1066.482133\n",
       "2     AUT   742.828157\n",
       "3     FRA   702.121338\n",
       "4     ITA   552.854526\n",
       "5     GBR   505.339586\n",
       "6     ESP   481.166310"
      ]
     },
     "execution_count": 144,
     "metadata": {},
     "output_type": "execute_result"
    }
   ],
   "source": [
    "# select out of the all data the 6 elapsed months of 2019, sort the relevant data and print it\n",
    "_2019_31=df3[(df3.Date=='2019-01') & (df3['Date Number']=='2019-06')].sort_values(by=['Avg_TX'], ascending=False).set_index([s])\n",
    "L31_2019=_2019_31[['Country', 'Avg_TX']]\n",
    "L31_2019"
   ]
  },
  {
   "cell_type": "code",
   "execution_count": 145,
   "metadata": {},
   "outputs": [
    {
     "data": {
      "image/png": "[encoded data removed]",
      "text/plain": [
       "<Figure size 720x360 with 1 Axes>"
      ]
     },
     "metadata": {},
     "output_type": "display_data"
    }
   ],
   "source": [
    "#NOT PART OF THE NUMERCAL SOLUTION ONLY FOR GRAPH PURPOSES FOR THE PRESENTATION\n",
    "graph0=L31_2017.merge(L31_2018, on='Country').merge(L31_2019, on='Country', how ='outer')\n",
    "graph0['Avg_TX']=graph0['Avg_TX']*2\n",
    "x=graph0.transpose()\n",
    "x=x.rename(columns=x.iloc[0]).iloc[1:]\n",
    "x['year']=[2017, 2018, 2019]\n",
    "x.plot(x='year', y=['FRA', 'DEU', 'AUT','ESP','ITA', 'GBR'], figsize=(10,5), grid=True)\n",
    "plt.ylabel('Average Annual TX Volume')\n",
    "plt.show()\n"
   ]
  },
  {
   "cell_type": "markdown",
   "metadata": {},
   "source": [
    "## Task 3.2"
   ]
  },
  {
   "cell_type": "markdown",
   "metadata": {},
   "source": [
    "\"\"\"\n",
    "ASSUMPTIONS:\n",
    "\n",
    "The average number of transaction of the entire user base for a country is proportinal/ representative for the average number of transaction of \n",
    "the newly signed cohort.\n",
    "\n",
    "\"\"\""
   ]
  },
  {
   "cell_type": "markdown",
   "metadata": {},
   "source": [
    "### Total TX Volume 2019-06 Cohort in June 2019"
   ]
  },
  {
   "cell_type": "code",
   "execution_count": 146,
   "metadata": {},
   "outputs": [
    {
     "data": {
      "text/html": [
       "<div>\n",
       "<style scoped>\n",
       "    .dataframe tbody tr th:only-of-type {\n",
       "        vertical-align: middle;\n",
       "    }\n",
       "\n",
       "    .dataframe tbody tr th {\n",
       "        vertical-align: top;\n",
       "    }\n",
       "\n",
       "    .dataframe thead th {\n",
       "        text-align: right;\n",
       "    }\n",
       "</style>\n",
       "<table border=\"1\" class=\"dataframe\">\n",
       "  <thead>\n",
       "    <tr style=\"text-align: right;\">\n",
       "      <th></th>\n",
       "      <th>Country</th>\n",
       "      <th>TX_total</th>\n",
       "    </tr>\n",
       "  </thead>\n",
       "  <tbody>\n",
       "    <tr>\n",
       "      <th>1</th>\n",
       "      <td>DEU</td>\n",
       "      <td>52124028.0</td>\n",
       "    </tr>\n",
       "    <tr>\n",
       "      <th>2</th>\n",
       "      <td>FRA</td>\n",
       "      <td>50242624.0</td>\n",
       "    </tr>\n",
       "    <tr>\n",
       "      <th>3</th>\n",
       "      <td>ITA</td>\n",
       "      <td>17314839.0</td>\n",
       "    </tr>\n",
       "    <tr>\n",
       "      <th>4</th>\n",
       "      <td>ESP</td>\n",
       "      <td>12422901.0</td>\n",
       "    </tr>\n",
       "    <tr>\n",
       "      <th>5</th>\n",
       "      <td>GBR</td>\n",
       "      <td>12135462.0</td>\n",
       "    </tr>\n",
       "    <tr>\n",
       "      <th>6</th>\n",
       "      <td>AUT</td>\n",
       "      <td>5084834.0</td>\n",
       "    </tr>\n",
       "  </tbody>\n",
       "</table>\n",
       "</div>"
      ],
      "text/plain": [
       "  Country    TX_total\n",
       "1     DEU  52124028.0\n",
       "2     FRA  50242624.0\n",
       "3     ITA  17314839.0\n",
       "4     ESP  12422901.0\n",
       "5     GBR  12135462.0\n",
       "6     AUT   5084834.0"
      ]
     },
     "execution_count": 146,
     "metadata": {},
     "output_type": "execute_result"
    }
   ],
   "source": [
    "table32=result22.sort_values(by=['Country'])\n",
    "avg_tx_2019_06=df3[(df3.Date=='2019-06') & (df3['Date Number']=='2019-06')].sort_values(by=['Country'])\n",
    "L4=[]\n",
    "for e in avg_tx_2019_06['TX']:\n",
    "    L4.append(float(e))\n",
    "table32['TX']=L4\n",
    "table32['TX_total']=(table32.active_2019_06_cohort*table32.TX)\n",
    "result32=table32.sort_values(by=['TX_total'], ascending=False).set_index([s])[['Country', 'TX_total']]\n",
    "result32.round()"
   ]
  },
  {
   "cell_type": "code",
   "execution_count": 147,
   "metadata": {},
   "outputs": [
    {
     "data": {
      "text/plain": [
       "Text(0,0.5,'TX Volume in 10m')"
      ]
     },
     "execution_count": 147,
     "metadata": {},
     "output_type": "execute_result"
    },
    {
     "data": {
      "image/png": "[encoded data removed]",
      "text/plain": [
       "<Figure size 432x288 with 1 Axes>"
      ]
     },
     "metadata": {},
     "output_type": "display_data"
    }
   ],
   "source": [
    "result32.plot(x ='Country', y=['TX_total'], kind = 'bar' )\n",
    "plt.ylabel('TX Volume in 10m')"
   ]
  },
  {
   "cell_type": "markdown",
   "metadata": {},
   "source": [
    "## Task 4.1"
   ]
  },
  {
   "cell_type": "markdown",
   "metadata": {},
   "source": [
    "### Average AUM per active User 2017"
   ]
  },
  {
   "cell_type": "code",
   "execution_count": 148,
   "metadata": {},
   "outputs": [
    {
     "data": {
      "text/html": [
       "<div>\n",
       "<style scoped>\n",
       "    .dataframe tbody tr th:only-of-type {\n",
       "        vertical-align: middle;\n",
       "    }\n",
       "\n",
       "    .dataframe tbody tr th {\n",
       "        vertical-align: top;\n",
       "    }\n",
       "\n",
       "    .dataframe thead th {\n",
       "        text-align: right;\n",
       "    }\n",
       "</style>\n",
       "<table border=\"1\" class=\"dataframe\">\n",
       "  <thead>\n",
       "    <tr style=\"text-align: right;\">\n",
       "      <th></th>\n",
       "      <th>Country</th>\n",
       "      <th>Avg_AUM</th>\n",
       "    </tr>\n",
       "  </thead>\n",
       "  <tbody>\n",
       "    <tr>\n",
       "      <th>1</th>\n",
       "      <td>AUT</td>\n",
       "      <td>2899</td>\n",
       "    </tr>\n",
       "    <tr>\n",
       "      <th>2</th>\n",
       "      <td>ITA</td>\n",
       "      <td>2864</td>\n",
       "    </tr>\n",
       "    <tr>\n",
       "      <th>3</th>\n",
       "      <td>DEU</td>\n",
       "      <td>2397</td>\n",
       "    </tr>\n",
       "    <tr>\n",
       "      <th>4</th>\n",
       "      <td>ESP</td>\n",
       "      <td>2390</td>\n",
       "    </tr>\n",
       "    <tr>\n",
       "      <th>5</th>\n",
       "      <td>FRA</td>\n",
       "      <td>1742</td>\n",
       "    </tr>\n",
       "  </tbody>\n",
       "</table>\n",
       "</div>"
      ],
      "text/plain": [
       "  Country  Avg_AUM\n",
       "1     AUT     2899\n",
       "2     ITA     2864\n",
       "3     DEU     2397\n",
       "4     ESP     2390\n",
       "5     FRA     1742"
      ]
     },
     "execution_count": 148,
     "metadata": {},
     "output_type": "execute_result"
    }
   ],
   "source": [
    "# select out of the all data the 12 elapsed months of 2017, sort the relevant data and print it\n",
    "df4 = df4.sort_values(['Country','Months elapsed'])\n",
    "s1=pd.Series([1, 2, 3, 4, 5])\n",
    "L5=[]\n",
    "for e in df4['AUM']:\n",
    "    L5.append(int(e))\n",
    "df4['Avg_AUM']=L5\n",
    "_2017_41=df4[(df4.Date=='2017-01') & (df4['Date Number']=='2017-12')].sort_values(by=['Avg_AUM'], ascending=False).set_index([s1])\n",
    "L41_2017=_2017_41[['Country', 'Avg_AUM']]\n",
    "L41_2017"
   ]
  },
  {
   "cell_type": "markdown",
   "metadata": {},
   "source": [
    "### Average AUM per active User 2018"
   ]
  },
  {
   "cell_type": "code",
   "execution_count": 149,
   "metadata": {},
   "outputs": [
    {
     "data": {
      "text/html": [
       "<div>\n",
       "<style scoped>\n",
       "    .dataframe tbody tr th:only-of-type {\n",
       "        vertical-align: middle;\n",
       "    }\n",
       "\n",
       "    .dataframe tbody tr th {\n",
       "        vertical-align: top;\n",
       "    }\n",
       "\n",
       "    .dataframe thead th {\n",
       "        text-align: right;\n",
       "    }\n",
       "</style>\n",
       "<table border=\"1\" class=\"dataframe\">\n",
       "  <thead>\n",
       "    <tr style=\"text-align: right;\">\n",
       "      <th></th>\n",
       "      <th>Country</th>\n",
       "      <th>Avg_AUM</th>\n",
       "    </tr>\n",
       "  </thead>\n",
       "  <tbody>\n",
       "    <tr>\n",
       "      <th>1</th>\n",
       "      <td>DEU</td>\n",
       "      <td>3245</td>\n",
       "    </tr>\n",
       "    <tr>\n",
       "      <th>2</th>\n",
       "      <td>ESP</td>\n",
       "      <td>2012</td>\n",
       "    </tr>\n",
       "    <tr>\n",
       "      <th>3</th>\n",
       "      <td>ITA</td>\n",
       "      <td>1835</td>\n",
       "    </tr>\n",
       "    <tr>\n",
       "      <th>4</th>\n",
       "      <td>AUT</td>\n",
       "      <td>1828</td>\n",
       "    </tr>\n",
       "    <tr>\n",
       "      <th>5</th>\n",
       "      <td>FRA</td>\n",
       "      <td>1520</td>\n",
       "    </tr>\n",
       "  </tbody>\n",
       "</table>\n",
       "</div>"
      ],
      "text/plain": [
       "  Country  Avg_AUM\n",
       "1     DEU     3245\n",
       "2     ESP     2012\n",
       "3     ITA     1835\n",
       "4     AUT     1828\n",
       "5     FRA     1520"
      ]
     },
     "execution_count": 149,
     "metadata": {},
     "output_type": "execute_result"
    }
   ],
   "source": [
    "# select out of the all data the 12 elapsed months of 2018, sort the relevant data and print it\n",
    "_2018_41=df4[(df4.Date=='2018-01') & (df4['Date Number']=='2018-12')].sort_values(by=['Avg_AUM'], ascending=False).set_index([s1])\n",
    "L41_2018=_2018_41[['Country', 'Avg_AUM']]\n",
    "L41_2018"
   ]
  },
  {
   "cell_type": "markdown",
   "metadata": {},
   "source": [
    "### Average AUM per active User 2019 YTD"
   ]
  },
  {
   "cell_type": "code",
   "execution_count": 150,
   "metadata": {},
   "outputs": [
    {
     "data": {
      "text/html": [
       "<div>\n",
       "<style scoped>\n",
       "    .dataframe tbody tr th:only-of-type {\n",
       "        vertical-align: middle;\n",
       "    }\n",
       "\n",
       "    .dataframe tbody tr th {\n",
       "        vertical-align: top;\n",
       "    }\n",
       "\n",
       "    .dataframe thead th {\n",
       "        text-align: right;\n",
       "    }\n",
       "</style>\n",
       "<table border=\"1\" class=\"dataframe\">\n",
       "  <thead>\n",
       "    <tr style=\"text-align: right;\">\n",
       "      <th></th>\n",
       "      <th>Country</th>\n",
       "      <th>Avg_AUM</th>\n",
       "    </tr>\n",
       "  </thead>\n",
       "  <tbody>\n",
       "    <tr>\n",
       "      <th>1</th>\n",
       "      <td>DEU</td>\n",
       "      <td>2049</td>\n",
       "    </tr>\n",
       "    <tr>\n",
       "      <th>2</th>\n",
       "      <td>AUT</td>\n",
       "      <td>1889</td>\n",
       "    </tr>\n",
       "    <tr>\n",
       "      <th>3</th>\n",
       "      <td>ESP</td>\n",
       "      <td>1241</td>\n",
       "    </tr>\n",
       "    <tr>\n",
       "      <th>4</th>\n",
       "      <td>ITA</td>\n",
       "      <td>956</td>\n",
       "    </tr>\n",
       "    <tr>\n",
       "      <th>5</th>\n",
       "      <td>FRA</td>\n",
       "      <td>898</td>\n",
       "    </tr>\n",
       "    <tr>\n",
       "      <th>6</th>\n",
       "      <td>GBR</td>\n",
       "      <td>306</td>\n",
       "    </tr>\n",
       "  </tbody>\n",
       "</table>\n",
       "</div>"
      ],
      "text/plain": [
       "  Country  Avg_AUM\n",
       "1     DEU     2049\n",
       "2     AUT     1889\n",
       "3     ESP     1241\n",
       "4     ITA      956\n",
       "5     FRA      898\n",
       "6     GBR      306"
      ]
     },
     "execution_count": 150,
     "metadata": {},
     "output_type": "execute_result"
    }
   ],
   "source": [
    "# select out of the all data the 6 elapsed months of 2019, sort the relevant data and print it\n",
    "_2019_41=df4[(df4.Date=='2019-01') & (df4['Date Number']=='2019-06')].sort_values(by=['Avg_AUM'], ascending=False).set_index([s])\n",
    "L41_2019=_2019_41[['Country', 'Avg_AUM']]\n",
    "L41_2019"
   ]
  },
  {
   "cell_type": "code",
   "execution_count": 151,
   "metadata": {},
   "outputs": [
    {
     "data": {
      "text/html": [
       "<div>\n",
       "<style scoped>\n",
       "    .dataframe tbody tr th:only-of-type {\n",
       "        vertical-align: middle;\n",
       "    }\n",
       "\n",
       "    .dataframe tbody tr th {\n",
       "        vertical-align: top;\n",
       "    }\n",
       "\n",
       "    .dataframe thead th {\n",
       "        text-align: right;\n",
       "    }\n",
       "</style>\n",
       "<table border=\"1\" class=\"dataframe\">\n",
       "  <thead>\n",
       "    <tr style=\"text-align: right;\">\n",
       "      <th></th>\n",
       "      <th>Country</th>\n",
       "      <th>2017</th>\n",
       "      <th>2018</th>\n",
       "      <th>2019</th>\n",
       "    </tr>\n",
       "    <tr>\n",
       "      <th>Country</th>\n",
       "      <th></th>\n",
       "      <th></th>\n",
       "      <th></th>\n",
       "      <th></th>\n",
       "    </tr>\n",
       "  </thead>\n",
       "  <tbody>\n",
       "    <tr>\n",
       "      <th>AUT</th>\n",
       "      <td>AUT</td>\n",
       "      <td>2899.0</td>\n",
       "      <td>1828.0</td>\n",
       "      <td>3778</td>\n",
       "    </tr>\n",
       "    <tr>\n",
       "      <th>ITA</th>\n",
       "      <td>ITA</td>\n",
       "      <td>2864.0</td>\n",
       "      <td>1835.0</td>\n",
       "      <td>1912</td>\n",
       "    </tr>\n",
       "    <tr>\n",
       "      <th>DEU</th>\n",
       "      <td>DEU</td>\n",
       "      <td>2397.0</td>\n",
       "      <td>3245.0</td>\n",
       "      <td>4098</td>\n",
       "    </tr>\n",
       "    <tr>\n",
       "      <th>ESP</th>\n",
       "      <td>ESP</td>\n",
       "      <td>2390.0</td>\n",
       "      <td>2012.0</td>\n",
       "      <td>2482</td>\n",
       "    </tr>\n",
       "    <tr>\n",
       "      <th>FRA</th>\n",
       "      <td>FRA</td>\n",
       "      <td>1742.0</td>\n",
       "      <td>1520.0</td>\n",
       "      <td>1796</td>\n",
       "    </tr>\n",
       "    <tr>\n",
       "      <th>GBR</th>\n",
       "      <td>GBR</td>\n",
       "      <td>NaN</td>\n",
       "      <td>NaN</td>\n",
       "      <td>612</td>\n",
       "    </tr>\n",
       "  </tbody>\n",
       "</table>\n",
       "</div>"
      ],
      "text/plain": [
       "        Country    2017    2018  2019\n",
       "Country                              \n",
       "AUT         AUT  2899.0  1828.0  3778\n",
       "ITA         ITA  2864.0  1835.0  1912\n",
       "DEU         DEU  2397.0  3245.0  4098\n",
       "ESP         ESP  2390.0  2012.0  2482\n",
       "FRA         FRA  1742.0  1520.0  1796\n",
       "GBR         GBR     NaN     NaN   612"
      ]
     },
     "execution_count": 151,
     "metadata": {},
     "output_type": "execute_result"
    }
   ],
   "source": [
    "#NOT PART OF THE NUMERCAL SOLUTION ONLY FOR GRAPH PURPOSES FOR THE PRESENTATION\n",
    "graph5=L41_2017.merge(L41_2018, on='Country').merge(L41_2019, on='Country', how='outer')\n",
    "graph5=graph5.rename(columns = {\"Avg_AUM_x\": \"2017\", \n",
    "                  \"Avg_AUM_y\": \"2018\", \n",
    "                     \"Avg_AUM\":\"2019\"}, )\n",
    "graph5['2019']=graph5['2019']*2\n",
    "graph5.index=graph5['Country']\n",
    "\n",
    "graph5"
   ]
  },
  {
   "cell_type": "code",
   "execution_count": 152,
   "metadata": {},
   "outputs": [
    {
     "data": {
      "text/plain": [
       "Text(0,0.5,'Average AUM per Active User')"
      ]
     },
     "execution_count": 152,
     "metadata": {},
     "output_type": "execute_result"
    },
    {
     "data": {
      "image/png": "[encoded data removed]",
      "text/plain": [
       "<Figure size 432x288 with 1 Axes>"
      ]
     },
     "metadata": {},
     "output_type": "display_data"
    }
   ],
   "source": [
    "#NOT PART OF THE NUMERCAL SOLUTION ONLY FOR GRAPH PURPOSES FOR THE PRESENTATION\n",
    "x=['2017', '2018', '2019']\n",
    "yp=graph5.drop(['Country'], axis=1)\n",
    "y1=list(yp.loc['AUT'])\n",
    "y2=list(yp.loc['ITA'])\n",
    "y3=list(yp.loc['DEU'])\n",
    "y4=list(yp.loc['ESP'])\n",
    "y5=list(yp.loc['FRA'])\n",
    "y6=list(yp.loc['GBR'])\n",
    "plt.stackplot(x,[y1, y2,y3,y4,y5,y6], labels=['AUT','ITA','DEU','ESP','FRA','GBR'])\n",
    "plt.legend(loc='upper left')\n",
    "plt.ylabel('Average AUM per Active User')"
   ]
  },
  {
   "cell_type": "markdown",
   "metadata": {},
   "source": [
    "## Task 4.2"
   ]
  },
  {
   "cell_type": "markdown",
   "metadata": {},
   "source": [
    "\"\"\"\n",
    "ASSUMPTIONS:\n",
    "\n",
    "The average AUM of the entire user base for a country is proportinal/ representative for the average AUM of \n",
    "the newly signed cohort. This is a very strong assumption, as I consider it likely that new customers start with a lower amount of\n",
    "AUM compared to established customers who are familiar with the service.\n",
    "\n",
    "\"\"\""
   ]
  },
  {
   "cell_type": "markdown",
   "metadata": {},
   "source": [
    "### Total AUM 2019-06 Cohort in June 2019"
   ]
  },
  {
   "cell_type": "code",
   "execution_count": 154,
   "metadata": {},
   "outputs": [
    {
     "data": {
      "text/html": [
       "<div>\n",
       "<style scoped>\n",
       "    .dataframe tbody tr th:only-of-type {\n",
       "        vertical-align: middle;\n",
       "    }\n",
       "\n",
       "    .dataframe tbody tr th {\n",
       "        vertical-align: top;\n",
       "    }\n",
       "\n",
       "    .dataframe thead th {\n",
       "        text-align: right;\n",
       "    }\n",
       "</style>\n",
       "<table border=\"1\" class=\"dataframe\">\n",
       "  <thead>\n",
       "    <tr style=\"text-align: right;\">\n",
       "      <th></th>\n",
       "      <th>Country</th>\n",
       "      <th>AUM_total</th>\n",
       "    </tr>\n",
       "  </thead>\n",
       "  <tbody>\n",
       "    <tr>\n",
       "      <th>1</th>\n",
       "      <td>DEU</td>\n",
       "      <td>76447572.0</td>\n",
       "    </tr>\n",
       "    <tr>\n",
       "      <th>2</th>\n",
       "      <td>FRA</td>\n",
       "      <td>60589111.0</td>\n",
       "    </tr>\n",
       "    <tr>\n",
       "      <th>3</th>\n",
       "      <td>ITA</td>\n",
       "      <td>29172450.0</td>\n",
       "    </tr>\n",
       "    <tr>\n",
       "      <th>4</th>\n",
       "      <td>GBR</td>\n",
       "      <td>12004654.0</td>\n",
       "    </tr>\n",
       "    <tr>\n",
       "      <th>5</th>\n",
       "      <td>AUT</td>\n",
       "      <td>8438850.0</td>\n",
       "    </tr>\n",
       "  </tbody>\n",
       "</table>\n",
       "</div>"
      ],
      "text/plain": [
       "  Country   AUM_total\n",
       "1     DEU  76447572.0\n",
       "2     FRA  60589111.0\n",
       "3     ITA  29172450.0\n",
       "4     GBR  12004654.0\n",
       "5     AUT   8438850.0"
      ]
     },
     "execution_count": 154,
     "metadata": {},
     "output_type": "execute_result"
    }
   ],
   "source": [
    "table42=result22.sort_values(by=['Country'])\n",
    "avg_AUM_2019_06=df4[(df4.Date=='2019-06') & (df4['Date Number']=='2019-06')].sort_values(by=['Country'])\n",
    "#spain has to be droped as the is no average AUM data for 2019-06 for spain, making assumption with previous data or average data would distort the result\n",
    "table42 = table42.drop(5)\n",
    "L6=[]\n",
    "for e in avg_AUM_2019_06['AUM']:\n",
    "    L6.append((e))\n",
    "table42['AUM']=L6\n",
    "table42['AUM_total']=(table42.active_2019_06_cohort*table42.AUM).round()\n",
    "result42=table42.sort_values(by=['AUM_total'], ascending=False).set_index([s1])[['Country', 'AUM_total']]\n",
    "result42"
   ]
  },
  {
   "cell_type": "code",
   "execution_count": 155,
   "metadata": {},
   "outputs": [
    {
     "data": {
      "text/plain": [
       "Text(0,0.5,'AUM in 10m')"
      ]
     },
     "execution_count": 155,
     "metadata": {},
     "output_type": "execute_result"
    },
    {
     "data": {
      "image/png": "[encoded data removed]",
      "text/plain": [
       "<Figure size 432x288 with 1 Axes>"
      ]
     },
     "metadata": {},
     "output_type": "display_data"
    }
   ],
   "source": [
    "result42.plot(x ='Country', y=['AUM_total'], kind = 'bar' )\n",
    "plt.ylabel('AUM in 10m')"
   ]
  },
  {
   "cell_type": "markdown",
   "metadata": {},
   "source": [
    "## Task 5"
   ]
  },
  {
   "cell_type": "markdown",
   "metadata": {},
   "source": [
    "\"\"\"\n",
    "ASSUMPTIONS:\n",
    "\n",
    "1:\n",
    "It is assumed that the calculated values from 1-4 remain the same (cetris paribus) in the future. \n",
    "\n",
    "2: \n",
    "It is assumed when calculating the payback period that interest rates are seen as a cost position for N26 that \n",
    "has to be paid to customers: However, the AUM and the interest rates could not only be seen as a \n",
    "cost position but also be used for revenue generating activities such as issuing loans. However, this was disregarded for the following calulations.\n",
    "\n",
    "3:\n",
    "For Spain the was not data with regard to \"Avg. Balance p. Active User\" for the period 2019-06 one month! As imputing the value by means of past data or average current data seems to strong of an assumption that would potentially distort the results, Spain was disregarded for the final analysis\n",
    "\"\"\""
   ]
  },
  {
   "cell_type": "code",
   "execution_count": 157,
   "metadata": {},
   "outputs": [],
   "source": [
    "#prepare all the data to merge\n",
    "#average customer aquisition cost 2019 per country\n",
    "a=_2019.sort_values(by=['Country'])\n",
    "#active user cohort 2019-06 per country\n",
    "b=result22.sort_values(by=['Country'])\n",
    "#transaction Volume cohort 2019-06 per country\n",
    "c=result32.sort_values(by=['Country'])\n",
    "#AUM cohort 2019-06 per country\n",
    "d=result42.sort_values(by=['Country'])"
   ]
  },
  {
   "cell_type": "code",
   "execution_count": 158,
   "metadata": {},
   "outputs": [
    {
     "data": {
      "text/html": [
       "<div>\n",
       "<style scoped>\n",
       "    .dataframe tbody tr th:only-of-type {\n",
       "        vertical-align: middle;\n",
       "    }\n",
       "\n",
       "    .dataframe tbody tr th {\n",
       "        vertical-align: top;\n",
       "    }\n",
       "\n",
       "    .dataframe thead th {\n",
       "        text-align: right;\n",
       "    }\n",
       "</style>\n",
       "<table border=\"1\" class=\"dataframe\">\n",
       "  <thead>\n",
       "    <tr style=\"text-align: right;\">\n",
       "      <th></th>\n",
       "      <th>Country</th>\n",
       "      <th>active_2019_06_cohort</th>\n",
       "      <th>TX_total</th>\n",
       "      <th>AUM_total</th>\n",
       "      <th>interest_rate</th>\n",
       "      <th>CAC2019</th>\n",
       "      <th>sign_ups</th>\n",
       "    </tr>\n",
       "  </thead>\n",
       "  <tbody>\n",
       "    <tr>\n",
       "      <th>0</th>\n",
       "      <td>AUT</td>\n",
       "      <td>11040.236565</td>\n",
       "      <td>5.084834e+06</td>\n",
       "      <td>8438850.0</td>\n",
       "      <td>0.0000</td>\n",
       "      <td>45.318682</td>\n",
       "      <td>21033</td>\n",
       "    </tr>\n",
       "    <tr>\n",
       "      <th>1</th>\n",
       "      <td>DEU</td>\n",
       "      <td>73479.271116</td>\n",
       "      <td>5.212403e+07</td>\n",
       "      <td>76447572.0</td>\n",
       "      <td>0.0000</td>\n",
       "      <td>60.193896</td>\n",
       "      <td>160875</td>\n",
       "    </tr>\n",
       "    <tr>\n",
       "      <th>2</th>\n",
       "      <td>ESP</td>\n",
       "      <td>25786.246975</td>\n",
       "      <td>1.242290e+07</td>\n",
       "      <td>NaN</td>\n",
       "      <td>0.0000</td>\n",
       "      <td>62.139315</td>\n",
       "      <td>87941</td>\n",
       "    </tr>\n",
       "    <tr>\n",
       "      <th>3</th>\n",
       "      <td>FRA</td>\n",
       "      <td>88767.122316</td>\n",
       "      <td>5.024262e+07</td>\n",
       "      <td>60589111.0</td>\n",
       "      <td>0.0000</td>\n",
       "      <td>48.784008</td>\n",
       "      <td>266707</td>\n",
       "    </tr>\n",
       "    <tr>\n",
       "      <th>4</th>\n",
       "      <td>GBR</td>\n",
       "      <td>42670.945805</td>\n",
       "      <td>1.213546e+07</td>\n",
       "      <td>12004654.0</td>\n",
       "      <td>0.0075</td>\n",
       "      <td>53.004881</td>\n",
       "      <td>184882</td>\n",
       "    </tr>\n",
       "    <tr>\n",
       "      <th>5</th>\n",
       "      <td>ITA</td>\n",
       "      <td>36923.404374</td>\n",
       "      <td>1.731484e+07</td>\n",
       "      <td>29172450.0</td>\n",
       "      <td>0.0000</td>\n",
       "      <td>55.077052</td>\n",
       "      <td>128714</td>\n",
       "    </tr>\n",
       "  </tbody>\n",
       "</table>\n",
       "</div>"
      ],
      "text/plain": [
       "  Country  active_2019_06_cohort      TX_total   AUM_total  interest_rate  \\\n",
       "0     AUT           11040.236565  5.084834e+06   8438850.0         0.0000   \n",
       "1     DEU           73479.271116  5.212403e+07  76447572.0         0.0000   \n",
       "2     ESP           25786.246975  1.242290e+07         NaN         0.0000   \n",
       "3     FRA           88767.122316  5.024262e+07  60589111.0         0.0000   \n",
       "4     GBR           42670.945805  1.213546e+07  12004654.0         0.0075   \n",
       "5     ITA           36923.404374  1.731484e+07  29172450.0         0.0000   \n",
       "\n",
       "     CAC2019  sign_ups  \n",
       "0  45.318682     21033  \n",
       "1  60.193896    160875  \n",
       "2  62.139315     87941  \n",
       "3  48.784008    266707  \n",
       "4  53.004881    184882  \n",
       "5  55.077052    128714  "
      ]
     },
     "execution_count": 158,
     "metadata": {},
     "output_type": "execute_result"
    }
   ],
   "source": [
    "# add interest rates, rename columns where neccessary, add total sign ups 2019-06 and merge dataframe \n",
    "int_rate=[0,0,0,0,0.0075,0]\n",
    "df5=a.merge(b, on='Country', how='left').merge(c, on='Country', how='left').merge(d, on='Country', how='left')\n",
    "df5['interest_rate']=int_rate\n",
    "df5['CAC2019']=df5['2019']\n",
    "df5=df5.drop(['2019'], axis=1)\n",
    "\n",
    "L7=[]\n",
    "for e in sign_ups.loc['2019-06'].sort_index(axis = 0):\n",
    "    L7.append(e)\n",
    "df5['sign_ups']=L7[:-1]\n",
    "df5"
   ]
  },
  {
   "cell_type": "code",
   "execution_count": 166,
   "metadata": {},
   "outputs": [],
   "source": [
    "#calculations\n",
    "#total costs\n",
    "df5['total_costs']=df5.sign_ups*df5.CAC2019\n",
    "#income from transactions\n",
    "df5['Annual_revenue'] =df5.TX_total*0.002*12\n",
    "#annual interest payable\n",
    "df5['Annual_costs'] =df5.AUM_total*df5.interest_rate\n",
    "#annual profit\n",
    "df5['annual_profit'] =df5.Annual_revenue-df5.Annual_costs\n",
    "#payback period\n",
    "df5['payback_period'] =df5.total_costs/df5.annual_profit"
   ]
  },
  {
   "cell_type": "code",
   "execution_count": 167,
   "metadata": {},
   "outputs": [
    {
     "data": {
      "text/html": [
       "<div>\n",
       "<style scoped>\n",
       "    .dataframe tbody tr th:only-of-type {\n",
       "        vertical-align: middle;\n",
       "    }\n",
       "\n",
       "    .dataframe tbody tr th {\n",
       "        vertical-align: top;\n",
       "    }\n",
       "\n",
       "    .dataframe thead th {\n",
       "        text-align: right;\n",
       "    }\n",
       "</style>\n",
       "<table border=\"1\" class=\"dataframe\">\n",
       "  <thead>\n",
       "    <tr style=\"text-align: right;\">\n",
       "      <th></th>\n",
       "      <th>Country</th>\n",
       "      <th>active_2019_06_cohort</th>\n",
       "      <th>TX_total</th>\n",
       "      <th>AUM_total</th>\n",
       "      <th>interest_rate</th>\n",
       "      <th>CAC2019</th>\n",
       "      <th>sign_ups</th>\n",
       "      <th>total_costs</th>\n",
       "      <th>Annual_revenue</th>\n",
       "      <th>Annual_costs</th>\n",
       "      <th>annual_profit</th>\n",
       "      <th>payback_period</th>\n",
       "    </tr>\n",
       "  </thead>\n",
       "  <tbody>\n",
       "    <tr>\n",
       "      <th>0</th>\n",
       "      <td>AUT</td>\n",
       "      <td>11040.236565</td>\n",
       "      <td>5.084834e+06</td>\n",
       "      <td>8438850.0</td>\n",
       "      <td>0.0000</td>\n",
       "      <td>45.318682</td>\n",
       "      <td>21033</td>\n",
       "      <td>9.531878e+05</td>\n",
       "      <td>1.220360e+05</td>\n",
       "      <td>0.000</td>\n",
       "      <td>1.220360e+05</td>\n",
       "      <td>7.810709</td>\n",
       "    </tr>\n",
       "    <tr>\n",
       "      <th>1</th>\n",
       "      <td>DEU</td>\n",
       "      <td>73479.271116</td>\n",
       "      <td>5.212403e+07</td>\n",
       "      <td>76447572.0</td>\n",
       "      <td>0.0000</td>\n",
       "      <td>60.193896</td>\n",
       "      <td>160875</td>\n",
       "      <td>9.683693e+06</td>\n",
       "      <td>1.250977e+06</td>\n",
       "      <td>0.000</td>\n",
       "      <td>1.250977e+06</td>\n",
       "      <td>7.740906</td>\n",
       "    </tr>\n",
       "    <tr>\n",
       "      <th>2</th>\n",
       "      <td>ESP</td>\n",
       "      <td>25786.246975</td>\n",
       "      <td>1.242290e+07</td>\n",
       "      <td>NaN</td>\n",
       "      <td>0.0000</td>\n",
       "      <td>62.139315</td>\n",
       "      <td>87941</td>\n",
       "      <td>5.464594e+06</td>\n",
       "      <td>2.981496e+05</td>\n",
       "      <td>NaN</td>\n",
       "      <td>NaN</td>\n",
       "      <td>NaN</td>\n",
       "    </tr>\n",
       "    <tr>\n",
       "      <th>3</th>\n",
       "      <td>FRA</td>\n",
       "      <td>88767.122316</td>\n",
       "      <td>5.024262e+07</td>\n",
       "      <td>60589111.0</td>\n",
       "      <td>0.0000</td>\n",
       "      <td>48.784008</td>\n",
       "      <td>266707</td>\n",
       "      <td>1.301104e+07</td>\n",
       "      <td>1.205823e+06</td>\n",
       "      <td>0.000</td>\n",
       "      <td>1.205823e+06</td>\n",
       "      <td>10.790171</td>\n",
       "    </tr>\n",
       "    <tr>\n",
       "      <th>4</th>\n",
       "      <td>GBR</td>\n",
       "      <td>42670.945805</td>\n",
       "      <td>1.213546e+07</td>\n",
       "      <td>12004654.0</td>\n",
       "      <td>0.0075</td>\n",
       "      <td>53.004881</td>\n",
       "      <td>184882</td>\n",
       "      <td>9.799648e+06</td>\n",
       "      <td>2.912511e+05</td>\n",
       "      <td>90034.905</td>\n",
       "      <td>2.012162e+05</td>\n",
       "      <td>48.702087</td>\n",
       "    </tr>\n",
       "    <tr>\n",
       "      <th>5</th>\n",
       "      <td>ITA</td>\n",
       "      <td>36923.404374</td>\n",
       "      <td>1.731484e+07</td>\n",
       "      <td>29172450.0</td>\n",
       "      <td>0.0000</td>\n",
       "      <td>55.077052</td>\n",
       "      <td>128714</td>\n",
       "      <td>7.089188e+06</td>\n",
       "      <td>4.155561e+05</td>\n",
       "      <td>0.000</td>\n",
       "      <td>4.155561e+05</td>\n",
       "      <td>17.059519</td>\n",
       "    </tr>\n",
       "  </tbody>\n",
       "</table>\n",
       "</div>"
      ],
      "text/plain": [
       "  Country  active_2019_06_cohort      TX_total   AUM_total  interest_rate  \\\n",
       "0     AUT           11040.236565  5.084834e+06   8438850.0         0.0000   \n",
       "1     DEU           73479.271116  5.212403e+07  76447572.0         0.0000   \n",
       "2     ESP           25786.246975  1.242290e+07         NaN         0.0000   \n",
       "3     FRA           88767.122316  5.024262e+07  60589111.0         0.0000   \n",
       "4     GBR           42670.945805  1.213546e+07  12004654.0         0.0075   \n",
       "5     ITA           36923.404374  1.731484e+07  29172450.0         0.0000   \n",
       "\n",
       "     CAC2019  sign_ups   total_costs  Annual_revenue  Annual_costs  \\\n",
       "0  45.318682     21033  9.531878e+05    1.220360e+05         0.000   \n",
       "1  60.193896    160875  9.683693e+06    1.250977e+06         0.000   \n",
       "2  62.139315     87941  5.464594e+06    2.981496e+05           NaN   \n",
       "3  48.784008    266707  1.301104e+07    1.205823e+06         0.000   \n",
       "4  53.004881    184882  9.799648e+06    2.912511e+05     90034.905   \n",
       "5  55.077052    128714  7.089188e+06    4.155561e+05         0.000   \n",
       "\n",
       "   annual_profit  payback_period  \n",
       "0   1.220360e+05        7.810709  \n",
       "1   1.250977e+06        7.740906  \n",
       "2            NaN             NaN  \n",
       "3   1.205823e+06       10.790171  \n",
       "4   2.012162e+05       48.702087  \n",
       "5   4.155561e+05       17.059519  "
      ]
     },
     "execution_count": 167,
     "metadata": {},
     "output_type": "execute_result"
    }
   ],
   "source": [
    "df5"
   ]
  },
  {
   "cell_type": "markdown",
   "metadata": {},
   "source": [
    "### Payback Period"
   ]
  },
  {
   "cell_type": "code",
   "execution_count": 168,
   "metadata": {},
   "outputs": [
    {
     "data": {
      "text/html": [
       "<div>\n",
       "<style scoped>\n",
       "    .dataframe tbody tr th:only-of-type {\n",
       "        vertical-align: middle;\n",
       "    }\n",
       "\n",
       "    .dataframe tbody tr th {\n",
       "        vertical-align: top;\n",
       "    }\n",
       "\n",
       "    .dataframe thead th {\n",
       "        text-align: right;\n",
       "    }\n",
       "</style>\n",
       "<table border=\"1\" class=\"dataframe\">\n",
       "  <thead>\n",
       "    <tr style=\"text-align: right;\">\n",
       "      <th></th>\n",
       "      <th>Country</th>\n",
       "      <th>payback_period</th>\n",
       "    </tr>\n",
       "  </thead>\n",
       "  <tbody>\n",
       "    <tr>\n",
       "      <th>1</th>\n",
       "      <td>DEU</td>\n",
       "      <td>7.740906</td>\n",
       "    </tr>\n",
       "    <tr>\n",
       "      <th>2</th>\n",
       "      <td>AUT</td>\n",
       "      <td>7.810709</td>\n",
       "    </tr>\n",
       "    <tr>\n",
       "      <th>3</th>\n",
       "      <td>FRA</td>\n",
       "      <td>10.790171</td>\n",
       "    </tr>\n",
       "    <tr>\n",
       "      <th>4</th>\n",
       "      <td>ITA</td>\n",
       "      <td>17.059519</td>\n",
       "    </tr>\n",
       "    <tr>\n",
       "      <th>5</th>\n",
       "      <td>GBR</td>\n",
       "      <td>48.702087</td>\n",
       "    </tr>\n",
       "    <tr>\n",
       "      <th>6</th>\n",
       "      <td>ESP</td>\n",
       "      <td>NaN</td>\n",
       "    </tr>\n",
       "  </tbody>\n",
       "</table>\n",
       "</div>"
      ],
      "text/plain": [
       "  Country  payback_period\n",
       "1     DEU        7.740906\n",
       "2     AUT        7.810709\n",
       "3     FRA       10.790171\n",
       "4     ITA       17.059519\n",
       "5     GBR       48.702087\n",
       "6     ESP             NaN"
      ]
     },
     "execution_count": 168,
     "metadata": {},
     "output_type": "execute_result"
    }
   ],
   "source": [
    "df5.sort_values(by=['payback_period'], ascending=True).set_index([s])[['Country','payback_period']]"
   ]
  },
  {
   "cell_type": "markdown",
   "metadata": {},
   "source": [
    "'''COMMENT: for reasons of completness the final payback analysis was also run once with seeing interest rates as an addtional revenue generating option\n",
    "and not as a cost position. In any case, the ranking of the countries does not change.\n",
    "\n",
    "''''"
   ]
  },
  {
   "cell_type": "code",
   "execution_count": 169,
   "metadata": {},
   "outputs": [],
   "source": [
    "#calculations\n",
    "#total costs\n",
    "df5['total_costs']=df5.sign_ups*df5.CAC2019\n",
    "#income from transactions\n",
    "df5['Annual_revenue'] =df5.TX_total*0.002*12\n",
    "#annual interest payable\n",
    "df5['Annual_costs'] =df5.AUM_total*df5.interest_rate\n",
    "#annual profit\n",
    "df5['annual_profit'] =df5.Annual_revenue+df5.Annual_costs\n",
    "#payback period\n",
    "df5['payback_period'] =df5.total_costs/df5.annual_profit"
   ]
  },
  {
   "cell_type": "code",
   "execution_count": 170,
   "metadata": {},
   "outputs": [
    {
     "data": {
      "text/html": [
       "<div>\n",
       "<style scoped>\n",
       "    .dataframe tbody tr th:only-of-type {\n",
       "        vertical-align: middle;\n",
       "    }\n",
       "\n",
       "    .dataframe tbody tr th {\n",
       "        vertical-align: top;\n",
       "    }\n",
       "\n",
       "    .dataframe thead th {\n",
       "        text-align: right;\n",
       "    }\n",
       "</style>\n",
       "<table border=\"1\" class=\"dataframe\">\n",
       "  <thead>\n",
       "    <tr style=\"text-align: right;\">\n",
       "      <th></th>\n",
       "      <th>Country</th>\n",
       "      <th>payback_period</th>\n",
       "    </tr>\n",
       "  </thead>\n",
       "  <tbody>\n",
       "    <tr>\n",
       "      <th>1</th>\n",
       "      <td>DEU</td>\n",
       "      <td>7.740906</td>\n",
       "    </tr>\n",
       "    <tr>\n",
       "      <th>2</th>\n",
       "      <td>AUT</td>\n",
       "      <td>7.810709</td>\n",
       "    </tr>\n",
       "    <tr>\n",
       "      <th>3</th>\n",
       "      <td>FRA</td>\n",
       "      <td>10.790171</td>\n",
       "    </tr>\n",
       "    <tr>\n",
       "      <th>4</th>\n",
       "      <td>ITA</td>\n",
       "      <td>17.059519</td>\n",
       "    </tr>\n",
       "    <tr>\n",
       "      <th>5</th>\n",
       "      <td>GBR</td>\n",
       "      <td>25.701569</td>\n",
       "    </tr>\n",
       "    <tr>\n",
       "      <th>6</th>\n",
       "      <td>ESP</td>\n",
       "      <td>NaN</td>\n",
       "    </tr>\n",
       "  </tbody>\n",
       "</table>\n",
       "</div>"
      ],
      "text/plain": [
       "  Country  payback_period\n",
       "1     DEU        7.740906\n",
       "2     AUT        7.810709\n",
       "3     FRA       10.790171\n",
       "4     ITA       17.059519\n",
       "5     GBR       25.701569\n",
       "6     ESP             NaN"
      ]
     },
     "execution_count": 170,
     "metadata": {},
     "output_type": "execute_result"
    }
   ],
   "source": [
    "df5.sort_values(by=['payback_period'], ascending=True).set_index([s])[['Country','payback_period']]"
   ]
  }
 ],
 "metadata": {
  "kernelspec": {
   "display_name": "Python 3",
   "language": "python",
   "name": "python3"
  },
  "language_info": {
   "codemirror_mode": {
    "name": "ipython",
    "version": 3
   },
   "file_extension": ".py",
   "mimetype": "text/x-python",
   "name": "python",
   "nbconvert_exporter": "python",
   "pygments_lexer": "ipython3",
   "version": "3.7.4"
  }
 },
 "nbformat": 4,
 "nbformat_minor": 2
}
